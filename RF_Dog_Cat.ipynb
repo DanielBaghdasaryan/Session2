{
 "cells": [
  {
   "cell_type": "code",
   "execution_count": 1,
   "metadata": {},
   "outputs": [
    {
     "name": "stderr",
     "output_type": "stream",
     "text": [
      "/home/daniel/anaconda3/lib/python3.6/site-packages/statsmodels/compat/pandas.py:56: FutureWarning: The pandas.core.datetools module is deprecated and will be removed in a future version. Please use the pandas.tseries module instead.\n",
      "  from pandas.core import datetools\n"
     ]
    }
   ],
   "source": [
    "import matplotlib.pyplot as plt\n",
    "%matplotlib inline\n",
    "import numpy as np\n",
    "import pandas as pd\n",
    "import statsmodels.api as sm\n",
    "from statsmodels.nonparametric.kde import KDEUnivariate\n",
    "from statsmodels.nonparametric import smoothers_lowess\n",
    "from pandas import Series, DataFrame\n",
    "from patsy import dmatrices\n",
    "from sklearn import datasets, svm\n",
    "import predict as ka # see github.com/agconti/kaggleaux for more details\n",
    "from sklearn.model_selection import train_test_split\n",
    "import sklearn.ensemble as ske\n",
    "import sys"
   ]
  },
  {
   "cell_type": "markdown",
   "metadata": {},
   "source": [
    "# Collect all data"
   ]
  },
  {
   "cell_type": "code",
   "execution_count": 7,
   "metadata": {},
   "outputs": [
    {
     "name": "stdout",
     "output_type": "stream",
     "text": [
      "(25000, 4098)\n"
     ]
    }
   ],
   "source": [
    "df_list=[]\n",
    "for i in range(25):\n",
    "    df = pd.read_csv(\"features/{}.csv\".format(i),dtype=float)\n",
    "    df.columns=['f{}'.format(j) for j in range(df.shape[1])]\n",
    "    df_list.append(df)\n",
    "\n",
    "df_all=pd.concat(df_list)\n",
    "print(df_all.shape)"
   ]
  },
  {
   "cell_type": "code",
   "execution_count": 3,
   "metadata": {
    "collapsed": true
   },
   "outputs": [],
   "source": [
    "formula = \"f1 ~ f2\" \n",
    "for i in range(3,df_all.shape[1]):\n",
    "     formula+='+f{}'.format(i)\n",
    "results = {}"
   ]
  },
  {
   "cell_type": "markdown",
   "metadata": {},
   "source": [
    "# Training and validation test\n",
    "### Using Random Forest method"
   ]
  },
  {
   "cell_type": "code",
   "execution_count": 8,
   "metadata": {},
   "outputs": [
    {
     "name": "stdout",
     "output_type": "stream",
     "text": [
      "Random Forest Accuracy: 0.9812\n"
     ]
    }
   ],
   "source": [
    "train, test = train_test_split(df_all, test_size = 0.2)\n",
    "\n",
    "sys.setrecursionlimit(20000)\n",
    "\n",
    "# I use train data\n",
    "y, x = dmatrices(formula, data=train, return_type='dataframe')\n",
    "y = np.asarray(y).ravel()\n",
    "\n",
    "results_rf = ske.RandomForestClassifier(n_estimators=100).fit(x, y)\n",
    "\n",
    "# I use test data\n",
    "yt, xt = dmatrices(formula, data=test, return_type='dataframe')\n",
    "yt = np.asarray(yt).ravel()\n",
    "\n",
    "\n",
    "score = results_rf.score(xt, yt)\n",
    "print(\"Random Forest Accuracy: {}\".format(score))"
   ]
  },
  {
   "cell_type": "markdown",
   "metadata": {
    "collapsed": true
   },
   "source": [
    "### My model accuracy for Dog vs Cat problem is ~0.98"
   ]
  }
 ],
 "metadata": {
  "kernelspec": {
   "display_name": "Python 3",
   "language": "python",
   "name": "python3"
  },
  "language_info": {
   "codemirror_mode": {
    "name": "ipython",
    "version": 3
   },
   "file_extension": ".py",
   "mimetype": "text/x-python",
   "name": "python",
   "nbconvert_exporter": "python",
   "pygments_lexer": "ipython3",
   "version": "3.6.0"
  }
 },
 "nbformat": 4,
 "nbformat_minor": 2
}
